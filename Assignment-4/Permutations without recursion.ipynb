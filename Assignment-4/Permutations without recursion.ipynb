{
 "cells": [
  {
   "cell_type": "markdown",
   "metadata": {},
   "source": [
    "### Q.4 Describe a non-recursive algorithm for enumerating all permutations of the numbers {1, 2, …,n} using an explicit stack"
   ]
  },
  {
   "cell_type": "code",
   "execution_count": 1,
   "metadata": {},
   "outputs": [],
   "source": [
    "\"\"\"\n",
    "Concept: If you have all the permutations of {1,2,...,n−1} in one stack, then we can produce all the permutations \n",
    "of {1, 2, . . . , n − 1, n} in another stack\n",
    "\n",
    "We start with the given list {1,2,....n}, then pop one element from it, so our list will have n-1 numbers.\n",
    "\n",
    "Base case is when no number is left in the list\n",
    "\n",
    "\"\"\"\n",
    "\n",
    "\n",
    "def permutations_using_stack(nums):\n",
    "    stack = []\n",
    "\n",
    "    for num in nums:\n",
    "        stack.append(([num], nums-set([num])))\n",
    "    \n",
    "    while len(stack)!= 0:\n",
    "\n",
    "        \"\"\"step1\"\"\"\n",
    "        list1, remaining = stack.pop()\n",
    "\n",
    "        \"\"\"base-case\"\"\"\n",
    "        if len(remaining) == 0:\n",
    "            print (list1)\n",
    "\n",
    "        else:\n",
    "            \"\"\"step2\"\"\"\n",
    "            for n in remaining:\n",
    "                list2 = list1.copy()\n",
    "                list2.append(n)\n",
    "                stack.append((list2, nums-set(list2)))"
   ]
  },
  {
   "cell_type": "code",
   "execution_count": 2,
   "metadata": {},
   "outputs": [
    {
     "name": "stdout",
     "output_type": "stream",
     "text": [
      "[3, 2, 1]\n",
      "[3, 1, 2]\n",
      "[2, 3, 1]\n",
      "[2, 1, 3]\n",
      "[1, 3, 2]\n",
      "[1, 2, 3]\n"
     ]
    }
   ],
   "source": [
    "\"\"\"code verification\"\"\"\n",
    "n = 3\n",
    "\n",
    "nums = {x for x in range(1, n+1)}\n",
    "\n",
    "permutations_using_stack(nums)"
   ]
  }
 ],
 "metadata": {
  "kernelspec": {
   "display_name": "Python 3",
   "language": "python",
   "name": "python3"
  },
  "language_info": {
   "codemirror_mode": {
    "name": "ipython",
    "version": 3
   },
   "file_extension": ".py",
   "mimetype": "text/x-python",
   "name": "python",
   "nbconvert_exporter": "python",
   "pygments_lexer": "ipython3",
   "version": "3.7.6"
  }
 },
 "nbformat": 4,
 "nbformat_minor": 4
}
