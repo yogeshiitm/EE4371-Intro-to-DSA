{
  "nbformat": 4,
  "nbformat_minor": 0,
  "metadata": {
    "colab": {
      "name": "q1. Birthday Paradox.ipynb",
      "provenance": [],
      "collapsed_sections": [],
      "authorship_tag": "ABX9TyP7LmnPo1Aa+fkRfSo79cvd",
      "include_colab_link": true
    },
    "kernelspec": {
      "name": "python3",
      "display_name": "Python 3"
    }
  },
  "cells": [
    {
      "cell_type": "markdown",
      "metadata": {
        "id": "view-in-github",
        "colab_type": "text"
      },
      "source": [
        "<a href=\"https://colab.research.google.com/github/yogeshiitm/EE4371-Intro-to-DSA/blob/master/Birthday_Paradox.ipynb\" target=\"_parent\"><img src=\"https://colab.research.google.com/assets/colab-badge.svg\" alt=\"Open In Colab\"/></a>"
      ]
    },
    {
      "cell_type": "markdown",
      "metadata": {
        "id": "x4_S8Eq2RTTH"
      },
      "source": [
        "## **Question 1: Birthday Paradox**\r\n",
        "To design a program that can test the [Birthday problem](https://en.wikipedia.org/wiki/Birthday_problem), by a series of experiments, on randomly generated birthdays which test this paradox for n = 5,10,15,20,25,30...200.*italicised text*"
      ]
    },
    {
      "cell_type": "markdown",
      "metadata": {
        "id": "-UzwDoLHRlWP"
      },
      "source": [
        "**Step 1: Theoritical probability of at least two of the n persons having the same birthday can be calculated as follows:**"
      ]
    },
    {
      "cell_type": "code",
      "metadata": {
        "id": "ynFtXzd5RrmA"
      },
      "source": [
        "def ProbabilityTheoritical(n):\r\n",
        "    p= 1 - Factorial(365)/((365**n)*Factorial(365-n))\r\n",
        "    \"\"\"Reference: wikipedia\"\"\"\r\n",
        "    return p\r\n",
        "\r\n",
        "def Factorial(m):\r\n",
        "    fac=1\r\n",
        "    for i in range(1,m+1):\r\n",
        "        fac= fac*i\r\n",
        "    return fac"
      ],
      "execution_count": 1,
      "outputs": []
    },
    {
      "cell_type": "markdown",
      "metadata": {
        "id": "cfskRyD7RzqS"
      },
      "source": [
        "**Step 2: Experimental probability for n person. Taking n persons over and over again and check the probability**"
      ]
    },
    {
      "cell_type": "code",
      "metadata": {
        "id": "SEUI_lhzR6vk"
      },
      "source": [
        "import random\r\n",
        "\r\n",
        "def ProbabilityExperimental(n):\r\n",
        "    yescount=0\r\n",
        "    lst=[]\r\n",
        "    \"\"\"To calculate experimental probability we need to repeat the experiment over and over again.\"\"\"\r\n",
        "    \"\"\"so lets repeat it for 10,000 times for each value of n\"\"\"\r\n",
        "    for i in range(10000): \r\n",
        "        for j in range(n):\r\n",
        "            \"\"\"First lets generate n random birthdays.\r\n",
        "            Each no. from 1 to 365 will represent a birthday, so we can select n random nos. from 1 to 365\"\"\"\r\n",
        "            lst.append(random.randint(1,366))\r\n",
        "\r\n",
        "        \"\"\"Now check is their any pair with same birthday\"\"\"\r\n",
        "        if(len(set(lst))<len(lst)):\r\n",
        "            yescount +=1\r\n",
        "        lst.clear()\r\n",
        "\r\n",
        "    p=yescount/10000\r\n",
        "    return p"
      ],
      "execution_count": 2,
      "outputs": []
    },
    {
      "cell_type": "markdown",
      "metadata": {
        "id": "et4jybgNR954"
      },
      "source": [
        "**Step 3: Now lets calculate the theoritical and experimental value of the probabibility of at least two of the n persons having the same birthday, taking n= 5,10,15,20,25,30...200.**"
      ]
    },
    {
      "cell_type": "code",
      "metadata": {
        "colab": {
          "base_uri": "https://localhost:8080/",
          "height": 0
        },
        "id": "nFZBv5n0SBiF",
        "outputId": "9768e564-2414-4eaf-9e3b-b952d2f22929"
      },
      "source": [
        "y1=[]\r\n",
        "y2=[]\r\n",
        "\r\n",
        "falsecount=0\r\n",
        "truecount=0\r\n",
        "\r\n",
        "for n in range(5,205,5):\r\n",
        "    a=ProbabilityTheoritical(n)\r\n",
        "    b=ProbabilityExperimental(n)\r\n",
        "    \r\n",
        "    # y-axis for plotting the probability vs number of people graph\r\n",
        "    y1.append(a)\r\n",
        "    y2.append(b)\r\n",
        "    \r\n",
        "    # comparing theoritical and experimental probabilties\r\n",
        "    if a-b<0.02:\r\n",
        "        print(\"For n = {}\".format(n).ljust(11), \"True\".rjust(8),\"     Theoritical prob ≈ {}\".format(a).ljust(48),\"Experimental prob ≈ {}\".format(b))\r\n",
        "        truecount+=1\r\n",
        "        \r\n",
        "    else:\r\n",
        "        print(\"For n = {}\".format(n).ljust(11), \"False\".rjust(8),\"     Theoritical prob ≈ {}\".format(a).ljust(48),\"Experimental prob ≈ {}\".format(b))    \r\n",
        "        falsecount+=1\r\n",
        "\r\n",
        "        \r\n",
        "print(\"\\nTrue count:\",truecount)\r\n",
        "print(\"False count:\",falsecount)\r\n",
        "\r\n",
        "if (falsecount==0):\r\n",
        "    print(\"Since the false count is 0, so the Birthday Paradox is true.\")\r\n",
        "\r\n",
        "elif (falsecount<=5):\r\n",
        "    print(\"Since the false count is so low, so the Birthday Paradox is true.\")\r\n",
        "\r\n",
        "else:\r\n",
        "    print(\"Since the false count is more than 5, so the Birthday Paradox is false.\\n\")"
      ],
      "execution_count": 3,
      "outputs": [
        {
          "output_type": "stream",
          "text": [
            "For n = 5       True      Theoritical prob ≈ 0.02713557369979358      Experimental prob ≈ 0.0278\n",
            "For n = 10      True      Theoritical prob ≈ 0.11694817771107768      Experimental prob ≈ 0.1185\n",
            "For n = 15      True      Theoritical prob ≈ 0.25290131976368635      Experimental prob ≈ 0.2598\n",
            "For n = 20      True      Theoritical prob ≈ 0.41143838358057994      Experimental prob ≈ 0.4131\n",
            "For n = 25      True      Theoritical prob ≈ 0.5686997039694639       Experimental prob ≈ 0.5678\n",
            "For n = 30      True      Theoritical prob ≈ 0.7063162427192686       Experimental prob ≈ 0.7009\n",
            "For n = 35      True      Theoritical prob ≈ 0.8143832388747152       Experimental prob ≈ 0.8117\n",
            "For n = 40      True      Theoritical prob ≈ 0.891231809817949        Experimental prob ≈ 0.8891\n",
            "For n = 45      True      Theoritical prob ≈ 0.940975899465775        Experimental prob ≈ 0.9401\n",
            "For n = 50      True      Theoritical prob ≈ 0.9703735795779884       Experimental prob ≈ 0.9701\n",
            "For n = 55      True      Theoritical prob ≈ 0.9862622888164461       Experimental prob ≈ 0.9858\n",
            "For n = 60      True      Theoritical prob ≈ 0.994122660865348        Experimental prob ≈ 0.9944\n",
            "For n = 65      True      Theoritical prob ≈ 0.9976831073124921       Experimental prob ≈ 0.998\n",
            "For n = 70      True      Theoritical prob ≈ 0.9991595759651571       Experimental prob ≈ 0.9986\n",
            "For n = 75      True      Theoritical prob ≈ 0.9997198781738114       Experimental prob ≈ 0.9999\n",
            "For n = 80      True      Theoritical prob ≈ 0.9999143319493135       Experimental prob ≈ 0.9999\n",
            "For n = 85      True      Theoritical prob ≈ 0.9999759973260097       Experimental prob ≈ 0.9999\n",
            "For n = 90      True      Theoritical prob ≈ 0.9999938483561236       Experimental prob ≈ 1.0\n",
            "For n = 95      True      Theoritical prob ≈ 0.9999985601708488       Experimental prob ≈ 1.0\n",
            "For n = 100     True      Theoritical prob ≈ 0.9999996927510721       Experimental prob ≈ 1.0\n",
            "For n = 105     True      Theoritical prob ≈ 0.9999999403276142       Experimental prob ≈ 1.0\n",
            "For n = 110     True      Theoritical prob ≈ 0.9999999894712943       Experimental prob ≈ 1.0\n",
            "For n = 115     True      Theoritical prob ≈ 0.9999999983154677       Experimental prob ≈ 1.0\n",
            "For n = 120     True      Theoritical prob ≈ 0.9999999997560852       Experimental prob ≈ 1.0\n",
            "For n = 125     True      Theoritical prob ≈ 0.9999999999681016       Experimental prob ≈ 1.0\n",
            "For n = 130     True      Theoritical prob ≈ 0.9999999999962403       Experimental prob ≈ 1.0\n",
            "For n = 135     True      Theoritical prob ≈ 0.9999999999996015       Experimental prob ≈ 1.0\n",
            "For n = 140     True      Theoritical prob ≈ 0.9999999999999621       Experimental prob ≈ 1.0\n",
            "For n = 145     True      Theoritical prob ≈ 0.9999999999999968       Experimental prob ≈ 1.0\n",
            "For n = 150     True      Theoritical prob ≈ 0.9999999999999998       Experimental prob ≈ 1.0\n",
            "For n = 155     True      Theoritical prob ≈ 1.0                      Experimental prob ≈ 1.0\n",
            "For n = 160     True      Theoritical prob ≈ 1.0                      Experimental prob ≈ 1.0\n",
            "For n = 165     True      Theoritical prob ≈ 1.0                      Experimental prob ≈ 1.0\n",
            "For n = 170     True      Theoritical prob ≈ 1.0                      Experimental prob ≈ 1.0\n",
            "For n = 175     True      Theoritical prob ≈ 1.0                      Experimental prob ≈ 1.0\n",
            "For n = 180     True      Theoritical prob ≈ 1.0                      Experimental prob ≈ 1.0\n",
            "For n = 185     True      Theoritical prob ≈ 1.0                      Experimental prob ≈ 1.0\n",
            "For n = 190     True      Theoritical prob ≈ 1.0                      Experimental prob ≈ 1.0\n",
            "For n = 195     True      Theoritical prob ≈ 1.0                      Experimental prob ≈ 1.0\n",
            "For n = 200     True      Theoritical prob ≈ 1.0                      Experimental prob ≈ 1.0\n",
            "\n",
            "True count: 40\n",
            "False count: 0\n",
            "Since the false count is 0, so the Birthday Paradox is true.\n"
          ],
          "name": "stdout"
        }
      ]
    },
    {
      "cell_type": "markdown",
      "metadata": {
        "id": "5kNGpXmwTI6J"
      },
      "source": [
        "**Note:**"
      ]
    },
    {
      "cell_type": "markdown",
      "metadata": {
        "id": "jtZ36pFYSDyR"
      },
      "source": [
        "```\r\n",
        "- True: Theoritical probability ≈ Experimental probabilbilty\r\n",
        "- False: Theoritical probability ≠ Experimental probabilbilty\r\n",
        "- These are approximate values of the probabilities, since the probability will be exact 1 only when no. of persons n >= 367\r\n",
        "\r\n",
        "From above values we may conclude that:\r\n",
        "- If there are 23 person in a room, the probabilty that atleast 2 of them have same birthday is 50%\r\n",
        "- If there are only 70 person in a room, the probabilty that atleast 2 of them have same birthday is 99.9%\r\n",
        "\r\n",
        "These conclusions are based on the assumption that each day of the year (excluding February 29) is equally probable \r\n",
        "for a birthday.\r\n",
        "```\r\n",
        "\r\n"
      ]
    },
    {
      "cell_type": "markdown",
      "metadata": {
        "id": "EpKpWVuXSOYW"
      },
      "source": [
        "**Step 4: Plotting (Probability of a pair sharing a birthday) vs (Number of people):**"
      ]
    },
    {
      "cell_type": "code",
      "metadata": {
        "colab": {
          "base_uri": "https://localhost:8080/",
          "height": 297
        },
        "id": "Xf9bxujLSRgu",
        "outputId": "d918221e-fb49-4f2c-af69-67ae2a2c6bb6"
      },
      "source": [
        "import matplotlib.pyplot as plt\r\n",
        "\r\n",
        "# x-axis scale\r\n",
        "x=[]\r\n",
        "for i in range(5,205, 5):\r\n",
        "    x.append(i)\r\n",
        "\r\n",
        "\r\n",
        "# plotting the theoritical probability of at least two people sharing a birthday vs the number of people\r\n",
        "plt.subplot(1, 2, 1)\r\n",
        "plt.plot(x, y1)\r\n",
        "plt.xlabel('Number of people (n) →')\r\n",
        "plt.ylabel('Theoritical probability of a pair →')\r\n",
        "\r\n",
        "\r\n",
        "# plotting the experimental probability of at least two people sharing a birthday vs the number of people\r\n",
        "plt.subplot(1, 2, 2)\r\n",
        "plt.plot(x, y2, color ='tab:green')\r\n",
        "plt.xlabel('Number of people (n) →')\r\n",
        "plt.ylabel('Experimental probability of a pair →')\r\n",
        "\r\n",
        "\r\n",
        "#printing the therotical and experimental plots side by side\r\n",
        "plt.tight_layout()\r\n",
        "plt.show()"
      ],
      "execution_count": 4,
      "outputs": [
        {
          "output_type": "display_data",
          "data": {
            "image/png": "[encoded data removed]",
            "text/plain": [
              "<Figure size 432x288 with 2 Axes>"
            ]
          },
          "metadata": {
            "tags": [],
            "needs_background": "light"
          }
        }
      ]
    }
  ]
}