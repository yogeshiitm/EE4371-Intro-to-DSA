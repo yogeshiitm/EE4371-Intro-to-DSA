{
 "cells": [
  {
   "cell_type": "markdown",
   "metadata": {},
   "source": [
    "# Problem 1: Birthday Paradox"
   ]
  },
  {
   "cell_type": "markdown",
   "metadata": {
    "id": "x4_S8Eq2RTTH"
   },
   "source": [
    "To design a program that can test the [Birthday problem](https://en.wikipedia.org/wiki/Birthday_problem), by a series of experiments, on randomly generated birthdays which test this paradox for n = 5,10,15,20,25,30...200."
   ]
  },
  {
   "cell_type": "markdown",
   "metadata": {
    "id": "-UzwDoLHRlWP"
   },
   "source": [
    "**Step 1: Theoritical probability of at least two of the n persons having the same birthday can be calculated as follows:**"
   ]
  },
  {
   "cell_type": "code",
   "execution_count": 1,
   "metadata": {
    "id": "ynFtXzd5RrmA"
   },
   "outputs": [],
   "source": [
    "def ProbabilityTheoritical(n):\n",
    "    p= 1 - Factorial(365)/((365**n)*Factorial(365-n))\n",
    "    \"\"\"Reference: wikipedia\"\"\"\n",
    "    return p\n",
    "\n",
    "def Factorial(m):\n",
    "    fac=1\n",
    "    for i in range(1,m+1):\n",
    "        fac= fac*i\n",
    "    return fac"
   ]
  },
  {
   "cell_type": "markdown",
   "metadata": {
    "id": "cfskRyD7RzqS"
   },
   "source": [
    "**Step 2: Experimental probability for n person. Taking n persons over and over again and check the probability**"
   ]
  },
  {
   "cell_type": "code",
   "execution_count": 2,
   "metadata": {
    "id": "SEUI_lhzR6vk"
   },
   "outputs": [],
   "source": [
    "import random\n",
    "\n",
    "def ProbabilityExperimental(n):\n",
    "    yescount=0\n",
    "    lst=[]\n",
    "    \"\"\"To calculate experimental probability we need to repeat the experiment over and over again.\"\"\"\n",
    "    \"\"\"so lets repeat it for 10,000 times for each value of n\"\"\"\n",
    "    for i in range(10000): \n",
    "        for j in range(n):\n",
    "            \"\"\"First lets generate n random birthdays.\n",
    "            Each no. from 1 to 365 will represent a birthday, so we can select n random nos. from 1 to 365\"\"\"\n",
    "            lst.append(random.randint(1,366))\n",
    "\n",
    "        \"\"\"Now check is their any pair with same birthday\"\"\"\n",
    "        if(len(set(lst))<len(lst)):\n",
    "            yescount +=1\n",
    "        lst.clear()\n",
    "\n",
    "    p=yescount/10000\n",
    "    return p"
   ]
  },
  {
   "cell_type": "markdown",
   "metadata": {
    "id": "et4jybgNR954"
   },
   "source": [
    "**Step 3: Now lets calculate the theoritical and experimental value of the probabibility of at least two of the n persons having the same birthday, taking n= 5,10,15,20,25,30...200.**"
   ]
  },
  {
   "cell_type": "code",
   "execution_count": 3,
   "metadata": {
    "colab": {
     "base_uri": "https://localhost:8080/",
     "height": 0
    },
    "id": "nFZBv5n0SBiF",
    "outputId": "9768e564-2414-4eaf-9e3b-b952d2f22929"
   },
   "outputs": [
    {
     "name": "stdout",
     "output_type": "stream",
     "text": [
      "n = 5       True      Theoritical prob ≈ 0.02713557369979358      Experimental prob ≈ 0.0285\n",
      "n = 10      True      Theoritical prob ≈ 0.11694817771107768      Experimental prob ≈ 0.1121\n",
      "n = 15      True      Theoritical prob ≈ 0.25290131976368635      Experimental prob ≈ 0.2488\n",
      "n = 20      True      Theoritical prob ≈ 0.41143838358057994      Experimental prob ≈ 0.415\n",
      "n = 25      True      Theoritical prob ≈ 0.5686997039694639       Experimental prob ≈ 0.5729\n",
      "n = 30      True      Theoritical prob ≈ 0.7063162427192686       Experimental prob ≈ 0.7072\n",
      "n = 35      True      Theoritical prob ≈ 0.8143832388747152       Experimental prob ≈ 0.8112\n",
      "n = 40      True      Theoritical prob ≈ 0.891231809817949        Experimental prob ≈ 0.8939\n",
      "n = 45      True      Theoritical prob ≈ 0.940975899465775        Experimental prob ≈ 0.9405\n",
      "n = 50      True      Theoritical prob ≈ 0.9703735795779884       Experimental prob ≈ 0.9695\n",
      "n = 55      True      Theoritical prob ≈ 0.9862622888164461       Experimental prob ≈ 0.9873\n",
      "n = 60      True      Theoritical prob ≈ 0.994122660865348        Experimental prob ≈ 0.9939\n",
      "n = 65      True      Theoritical prob ≈ 0.9976831073124921       Experimental prob ≈ 0.9981\n",
      "n = 70      True      Theoritical prob ≈ 0.9991595759651571       Experimental prob ≈ 0.9996\n",
      "n = 75      True      Theoritical prob ≈ 0.9997198781738114       Experimental prob ≈ 0.9998\n",
      "n = 80      True      Theoritical prob ≈ 0.9999143319493135       Experimental prob ≈ 1.0\n",
      "n = 85      True      Theoritical prob ≈ 0.9999759973260097       Experimental prob ≈ 1.0\n",
      "n = 90      True      Theoritical prob ≈ 0.9999938483561236       Experimental prob ≈ 1.0\n",
      "n = 95      True      Theoritical prob ≈ 0.9999985601708488       Experimental prob ≈ 1.0\n",
      "n = 100     True      Theoritical prob ≈ 0.9999996927510721       Experimental prob ≈ 1.0\n",
      "n = 105     True      Theoritical prob ≈ 0.9999999403276142       Experimental prob ≈ 1.0\n",
      "n = 110     True      Theoritical prob ≈ 0.9999999894712943       Experimental prob ≈ 1.0\n",
      "n = 115     True      Theoritical prob ≈ 0.9999999983154677       Experimental prob ≈ 1.0\n",
      "n = 120     True      Theoritical prob ≈ 0.9999999997560852       Experimental prob ≈ 1.0\n",
      "n = 125     True      Theoritical prob ≈ 0.9999999999681016       Experimental prob ≈ 1.0\n",
      "n = 130     True      Theoritical prob ≈ 0.9999999999962403       Experimental prob ≈ 1.0\n",
      "n = 135     True      Theoritical prob ≈ 0.9999999999996015       Experimental prob ≈ 1.0\n",
      "n = 140     True      Theoritical prob ≈ 0.9999999999999621       Experimental prob ≈ 1.0\n",
      "n = 145     True      Theoritical prob ≈ 0.9999999999999968       Experimental prob ≈ 1.0\n",
      "n = 150     True      Theoritical prob ≈ 0.9999999999999998       Experimental prob ≈ 1.0\n",
      "n = 155     True      Theoritical prob ≈ 1.0                      Experimental prob ≈ 1.0\n",
      "n = 160     True      Theoritical prob ≈ 1.0                      Experimental prob ≈ 1.0\n",
      "n = 165     True      Theoritical prob ≈ 1.0                      Experimental prob ≈ 1.0\n",
      "n = 170     True      Theoritical prob ≈ 1.0                      Experimental prob ≈ 1.0\n",
      "n = 175     True      Theoritical prob ≈ 1.0                      Experimental prob ≈ 1.0\n",
      "n = 180     True      Theoritical prob ≈ 1.0                      Experimental prob ≈ 1.0\n",
      "n = 185     True      Theoritical prob ≈ 1.0                      Experimental prob ≈ 1.0\n",
      "n = 190     True      Theoritical prob ≈ 1.0                      Experimental prob ≈ 1.0\n",
      "n = 195     True      Theoritical prob ≈ 1.0                      Experimental prob ≈ 1.0\n",
      "n = 200     True      Theoritical prob ≈ 1.0                      Experimental prob ≈ 1.0\n",
      "\n",
      "True count: 40\n",
      "False count: 0\n",
      "Since the false count is 0, so the Birthday Paradox is true.\n"
     ]
    }
   ],
   "source": [
    "y1=[]\n",
    "y2=[]\n",
    "\n",
    "falsecount=0\n",
    "truecount=0\n",
    "\n",
    "for n in range(5,205,5):\n",
    "    a=ProbabilityTheoritical(n)\n",
    "    b=ProbabilityExperimental(n)\n",
    "    \n",
    "    # y-axis for plotting the probability vs number of people graph\n",
    "    y1.append(a)\n",
    "    y2.append(b)\n",
    "    \n",
    "    # comparing theoritical and experimental probabilties\n",
    "    if a-b<0.02:\n",
    "        print(\"n = {}\".format(n).ljust(7), \"True\".rjust(8),\"     Theoritical prob ≈ {}\".format(a).ljust(48),\"Experimental prob ≈ {}\".format(b))\n",
    "        truecount+=1\n",
    "        \n",
    "    else:\n",
    "        print(\"n = {}\".format(n).ljust(7), \"False\".rjust(8),\"     Theoritical prob ≈ {}\".format(a).ljust(48),\"Experimental prob ≈ {}\".format(b))    \n",
    "        falsecount+=1\n",
    "\n",
    "        \n",
    "print(\"\\nTrue count:\",truecount)\n",
    "print(\"False count:\",falsecount)\n",
    "\n",
    "if (falsecount==0):\n",
    "    print(\"Since the false count is 0, so the Birthday Paradox is true.\")\n",
    "\n",
    "elif (falsecount<=5):\n",
    "    print(\"Since the false count is so low, so the Birthday Paradox is true.\")\n",
    "\n",
    "else:\n",
    "    print(\"Since the false count is more than 5, so the Birthday Paradox is false.\\n\")"
   ]
  },
  {
   "cell_type": "markdown",
   "metadata": {
    "id": "5kNGpXmwTI6J"
   },
   "source": [
    "**Note:**"
   ]
  },
  {
   "cell_type": "code",
   "execution_count": null,
   "metadata": {
    "id": "jtZ36pFYSDyR"
   },
   "outputs": [],
   "source": [
    "# True: Theoritical probability ≈ Experimental probabilbilty\n",
    "# False: Theoritical probability ≠ Experimental probabilbilty\n",
    "# These are approximate values of the probabilities, since the probability will be exact 1 only when no. of persons n >= 367\n",
    "\n",
    "\"\"\"\n",
    "From above values we may conclude that:\n",
    "- If there are 23 person in a room, the probabilty that atleast 2 of them have same birthday is 50%\n",
    "- If there are only 70 person in a room, the probabilty that atleast 2 of them have same birthday is 99.9%\n",
    "\n",
    "These conclusions are based on the assumption that each day of the year (excluding February 29) is equally probable \n",
    "for a birthday.\"\"\""
   ]
  },
  {
   "cell_type": "markdown",
   "metadata": {
    "id": "EpKpWVuXSOYW"
   },
   "source": [
    "**Step 4: Plotting (Probability of a pair sharing a birthday) vs (Number of people):**"
   ]
  },
  {
   "cell_type": "code",
   "execution_count": 4,
   "metadata": {
    "colab": {
     "base_uri": "https://localhost:8080/",
     "height": 297
    },
    "id": "Xf9bxujLSRgu",
    "outputId": "d918221e-fb49-4f2c-af69-67ae2a2c6bb6"
   },
   "outputs": [
    {
     "data": {
      "image/png": "[encoded data removed]",
      "text/plain": [
       "<Figure size 432x288 with 2 Axes>"
      ]
     },
     "metadata": {
      "needs_background": "light"
     },
     "output_type": "display_data"
    }
   ],
   "source": [
    "import matplotlib.pyplot as plt\n",
    "\n",
    "# x-axis scale\n",
    "x=[]\n",
    "for i in range(5,205, 5):\n",
    "    x.append(i)\n",
    "\n",
    "\n",
    "# plotting the theoritical probability of at least two people sharing a birthday vs the number of people\n",
    "plt.subplot(1, 2, 1)\n",
    "plt.plot(x, y1)\n",
    "plt.xlabel('Number of people (n) →')\n",
    "plt.ylabel('Theoritical probability of a pair →')\n",
    "\n",
    "\n",
    "# plotting the experimental probability of at least two people sharing a birthday vs the number of people\n",
    "plt.subplot(1, 2, 2)\n",
    "plt.plot(x, y2, color ='tab:green')\n",
    "plt.xlabel('Number of people (n) →')\n",
    "plt.ylabel('Experimental probability of a pair →')\n",
    "\n",
    "\n",
    "#printing the therotical and experimental plots side by side\n",
    "plt.tight_layout()\n",
    "plt.show()"
   ]
  }
 ],
 "metadata": {
  "colab": {
   "collapsed_sections": [],
   "name": "q1. Birthday Paradox.ipynb",
   "provenance": []
  },
  "kernelspec": {
   "display_name": "Python 3",
   "language": "python",
   "name": "python3"
  },
  "language_info": {
   "codemirror_mode": {
    "name": "ipython",
    "version": 3
   },
   "file_extension": ".py",
   "mimetype": "text/x-python",
   "name": "python",
   "nbconvert_exporter": "python",
   "pygments_lexer": "ipython3",
   "version": "3.7.6"
  }
 },
 "nbformat": 4,
 "nbformat_minor": 1
}
