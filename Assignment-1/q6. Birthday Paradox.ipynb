{
 "cells": [
  {
   "cell_type": "markdown",
   "metadata": {},
   "source": [
    "### Aim of the project:\n",
    "To design a program that can test the Birthday problem (https://en.wikipedia.org/wiki/Birthday_problem), by a series of experiments, on randomly generated birthdays which test this paradox for n = 5,10,15,20,25,30...200."
   ]
  },
  {
   "cell_type": "markdown",
   "metadata": {},
   "source": [
    "#### Theoritical probability of at least two of the n persons having the same birthday can be calculated as follows:"
   ]
  },
  {
   "cell_type": "code",
   "execution_count": 1,
   "metadata": {},
   "outputs": [],
   "source": [
    "def factorial(m):\n",
    "    fac=1\n",
    "    for i in range(1,m+1):\n",
    "        fac= fac*i\n",
    "    return fac\n",
    "\n",
    "def probabilitytheoritical(n):\n",
    "    p= 1 - factorial(365)/((365**n)*factorial(365-n))\n",
    "    \"\"\"Reference: wikipedia\"\"\"\n",
    "    return p"
   ]
  },
  {
   "cell_type": "markdown",
   "metadata": {},
   "source": [
    "#### Experimental probability for n person. Taking n persons over and over again and check the probability"
   ]
  },
  {
   "cell_type": "code",
   "execution_count": 2,
   "metadata": {},
   "outputs": [],
   "source": [
    "import random\n",
    "\n",
    "def probabilityexperimental(n):\n",
    "    yescount=0\n",
    "    lst=[]\n",
    "    \"\"\"To calculate experimental probability we need to repeat the experiment over and over again.\"\"\"\n",
    "    \"\"\"so lets repeat it for 10,000 times for each value of n\"\"\"\n",
    "    for i in range(10000): \n",
    "        for j in range(n):\n",
    "            \"\"\"First lets generate n random birthdays.\n",
    "            Each no. from 1 to 365 will represent a birthday, so we can select n random nos. from 1 to 365\"\"\"\n",
    "            lst.append(random.randint(1,366))\n",
    "\n",
    "        \"\"\"Now check is their any pair with same birthday\"\"\"\n",
    "        if(len(set(lst))<len(lst)):\n",
    "            yescount+=1\n",
    "        lst.clear()\n",
    "        \n",
    "    p=yescount/10000\n",
    "    return p"
   ]
  },
  {
   "cell_type": "markdown",
   "metadata": {},
   "source": [
    "#### Now lets calculate the theoritical and experimental value of the probabibility of at least two of the n persons having the same birthday, taking n= 5,10,15,20,25,30...200."
   ]
  },
  {
   "cell_type": "code",
   "execution_count": 3,
   "metadata": {},
   "outputs": [
    {
     "name": "stdout",
     "output_type": "stream",
     "text": [
      "For n = 5       True      Theoritical prob ≈ 0.02713557369979358      Experimental prob ≈ 0.028\n",
      "For n = 10      True      Theoritical prob ≈ 0.11694817771107768      Experimental prob ≈ 0.1118\n",
      "For n = 15      True      Theoritical prob ≈ 0.25290131976368635      Experimental prob ≈ 0.2466\n",
      "For n = 20      True      Theoritical prob ≈ 0.41143838358057994      Experimental prob ≈ 0.411\n",
      "For n = 25      True      Theoritical prob ≈ 0.5686997039694639       Experimental prob ≈ 0.5603\n",
      "For n = 30      True      Theoritical prob ≈ 0.7063162427192686       Experimental prob ≈ 0.709\n",
      "For n = 35      True      Theoritical prob ≈ 0.8143832388747152       Experimental prob ≈ 0.811\n",
      "For n = 40      True      Theoritical prob ≈ 0.891231809817949        Experimental prob ≈ 0.8923\n",
      "For n = 45      True      Theoritical prob ≈ 0.940975899465775        Experimental prob ≈ 0.9358\n",
      "For n = 50      True      Theoritical prob ≈ 0.9703735795779884       Experimental prob ≈ 0.9703\n",
      "For n = 55      True      Theoritical prob ≈ 0.9862622888164461       Experimental prob ≈ 0.985\n",
      "For n = 60      True      Theoritical prob ≈ 0.994122660865348        Experimental prob ≈ 0.9944\n",
      "For n = 65      True      Theoritical prob ≈ 0.9976831073124921       Experimental prob ≈ 0.9983\n",
      "For n = 70      True      Theoritical prob ≈ 0.9991595759651571       Experimental prob ≈ 0.999\n",
      "For n = 75      True      Theoritical prob ≈ 0.9997198781738114       Experimental prob ≈ 0.9994\n",
      "For n = 80      True      Theoritical prob ≈ 0.9999143319493135       Experimental prob ≈ 1.0\n",
      "For n = 85      True      Theoritical prob ≈ 0.9999759973260097       Experimental prob ≈ 1.0\n",
      "For n = 90      True      Theoritical prob ≈ 0.9999938483561236       Experimental prob ≈ 1.0\n",
      "For n = 95      True      Theoritical prob ≈ 0.9999985601708488       Experimental prob ≈ 1.0\n",
      "For n = 100     True      Theoritical prob ≈ 0.9999996927510721       Experimental prob ≈ 1.0\n",
      "For n = 105     True      Theoritical prob ≈ 0.9999999403276142       Experimental prob ≈ 1.0\n",
      "For n = 110     True      Theoritical prob ≈ 0.9999999894712943       Experimental prob ≈ 1.0\n",
      "For n = 115     True      Theoritical prob ≈ 0.9999999983154677       Experimental prob ≈ 1.0\n",
      "For n = 120     True      Theoritical prob ≈ 0.9999999997560852       Experimental prob ≈ 1.0\n",
      "For n = 125     True      Theoritical prob ≈ 0.9999999999681016       Experimental prob ≈ 1.0\n",
      "For n = 130     True      Theoritical prob ≈ 0.9999999999962403       Experimental prob ≈ 1.0\n",
      "For n = 135     True      Theoritical prob ≈ 0.9999999999996015       Experimental prob ≈ 1.0\n",
      "For n = 140     True      Theoritical prob ≈ 0.9999999999999621       Experimental prob ≈ 1.0\n",
      "For n = 145     True      Theoritical prob ≈ 0.9999999999999968       Experimental prob ≈ 1.0\n",
      "For n = 150     True      Theoritical prob ≈ 0.9999999999999998       Experimental prob ≈ 1.0\n",
      "For n = 155     True      Theoritical prob ≈ 1.0                      Experimental prob ≈ 1.0\n",
      "For n = 160     True      Theoritical prob ≈ 1.0                      Experimental prob ≈ 1.0\n",
      "For n = 165     True      Theoritical prob ≈ 1.0                      Experimental prob ≈ 1.0\n",
      "For n = 170     True      Theoritical prob ≈ 1.0                      Experimental prob ≈ 1.0\n",
      "For n = 175     True      Theoritical prob ≈ 1.0                      Experimental prob ≈ 1.0\n",
      "For n = 180     True      Theoritical prob ≈ 1.0                      Experimental prob ≈ 1.0\n",
      "For n = 185     True      Theoritical prob ≈ 1.0                      Experimental prob ≈ 1.0\n",
      "For n = 190     True      Theoritical prob ≈ 1.0                      Experimental prob ≈ 1.0\n",
      "For n = 195     True      Theoritical prob ≈ 1.0                      Experimental prob ≈ 1.0\n",
      "For n = 200     True      Theoritical prob ≈ 1.0                      Experimental prob ≈ 1.0\n",
      "\n",
      "True count: 40\n",
      "False count: 0\n",
      "Since the false count is 0, so the Birthday Paradox is true.\n"
     ]
    }
   ],
   "source": [
    "falsecount=0\n",
    "truecount=0\n",
    "for n in range(5,205,5):\n",
    "    a=probabilitytheoritical(n)\n",
    "    b=probabilityexperimental(n)\n",
    "    if a-b<0.02:\n",
    "        print(\"For n = {}\".format(n).ljust(11), \"True\".rjust(8),\"     Theoritical prob ≈ {}\".format(a).ljust(48),\"Experimental prob ≈ {}\".format(b))\n",
    "        truecount+=1\n",
    "        \n",
    "    else:\n",
    "        print(\"For n = {}\".format(n).ljust(11), \"False\".rjust(8),\"     Theoritical prob ≈ {}\".format(a).ljust(48),\"Experimental prob ≈ {}\".format(b))    \n",
    "        falsecount+=1\n",
    "\n",
    "print(\"\\nTrue count:\",truecount)\n",
    "print(\"False count:\",falsecount)\n",
    "if (falsecount==0):\n",
    "    print(\"Since the false count is 0, so the Birthday Paradox is true.\")\n",
    "elif (falsecount<=5):\n",
    "    print(\"Since the false count is so low, so the Birthday Paradox is true.\")\n",
    "\n",
    "else:\n",
    "    print(\"Since the false count is more than 5, so the Birthday Paradox is false.\\n\")"
   ]
  },
  {
   "cell_type": "code",
   "execution_count": null,
   "metadata": {},
   "outputs": [],
   "source": [
    "#True: Theoritical probability ≈ Experimental probabilbilty\n",
    "#False: Theoritical probability ≠ Experimental probabilbilty\n",
    "#These are approximate values of the probabilities, since the probability will be exact 1 when no. of persons n >= 367\n",
    "\"\"\"\n",
    "From above values we may conclude that:\n",
    "if there are 23 person in a room, the probabilty that atleast 2 of them have same birthday is 50%\n",
    "and if there are only 70 person in a room, the probabilty that atleast 2 of them have same birthday is 99.9%\n",
    "These conclusions are based on the assumption that each day of the year (excluding February 29) is equally probable \n",
    "for a birthday.\"\"\" "
   ]
  }
 ],
 "metadata": {
  "kernelspec": {
   "display_name": "Python 3",
   "language": "python",
   "name": "python3"
  },
  "language_info": {
   "codemirror_mode": {
    "name": "ipython",
    "version": 3
   },
   "file_extension": ".py",
   "mimetype": "text/x-python",
   "name": "python",
   "nbconvert_exporter": "python",
   "pygments_lexer": "ipython3",
   "version": "3.7.6"
  }
 },
 "nbformat": 4,
 "nbformat_minor": 4
}
