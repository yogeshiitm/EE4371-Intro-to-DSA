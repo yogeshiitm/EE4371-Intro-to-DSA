{
 "cells": [
  {
   "cell_type": "markdown",
   "metadata": {},
   "source": [
    "## Describe and analyze an efficient method for removing all duplicates from a collection A of n elements."
   ]
  },
  {
   "cell_type": "code",
   "execution_count": 1,
   "metadata": {},
   "outputs": [],
   "source": [
    "\"\"\"Part 1: Sorting the array using mergesort\"\"\"\n",
    "def merge_sort(A):\n",
    "    n = len(A)\n",
    "    \n",
    "    # base-case of the recurssion\n",
    "    if n==1:\n",
    "        return A\n",
    "    \n",
    "    # sort the left and right halves of the array recursively\n",
    "    mid = n//2\n",
    "    L = merge_sort(A[:mid])\n",
    "    R = merge_sort(A[mid:])\n",
    "    merged_array = merge(L,R)\n",
    "    return merged_array\n",
    "\n",
    "def merge(L,R):\n",
    "    i = 0\n",
    "    j = 0\n",
    "    answer = []\n",
    "    \n",
    "    # comparing the elements of the left and right sorted arrays, and adding them to a new array (merged_array)\n",
    "    while i<len(L) and j<len(R):\n",
    "        if L[i]<=R[j]:\n",
    "            answer.append(L[i])\n",
    "            i += 1\n",
    "        else:\n",
    "            answer.append(R[j])\n",
    "            j += 1\n",
    "    \n",
    "    # while comparing the left and right sorted arrays, it may happen that one of them is completly added to the merged_array \n",
    "    # but in the other array still there are some elements left, & since those are already sorted, add them to the merged_array\n",
    "    if i<len(L):\n",
    "            answer.extend(L[i:])\n",
    "    if j<len(R):\n",
    "            answer.extend(R[j:])\n",
    "            \n",
    "    # return the merged_array\n",
    "    return answer"
   ]
  },
  {
   "cell_type": "code",
   "execution_count": 2,
   "metadata": {},
   "outputs": [],
   "source": [
    "\"\"\"Part 2: Removing duplicates from the sorted array\"\"\"\n",
    "def remove_duplicates (sorted_array):\n",
    "    arr = []\n",
    "    i=0\n",
    "    j=0\n",
    "    n=len(sorted_array)\n",
    "    \n",
    "    while (i<len(sorted_array)):\n",
    "        # copying elements to the output array from the sorted array\n",
    "        arr.append(sorted_array[i])\n",
    "\n",
    "        # don't copy the element to the output_array if it is a duplicate of the previous element\n",
    "        # in while loop the condition i!=len(sorted_array)-1 is added, to make sure \n",
    "        # that sorted_array[i]==sorted_array[i+1] is not checked for the last element\n",
    "        while (i!=len(sorted_array)-1 and sorted_array[i] == sorted_array[i+1]):\n",
    "            i+=1\n",
    "\n",
    "        i+=1\n",
    "\n",
    "    # sorted list with no duplicates\n",
    "    return arr"
   ]
  },
  {
   "cell_type": "code",
   "execution_count": 3,
   "metadata": {},
   "outputs": [
    {
     "name": "stdout",
     "output_type": "stream",
     "text": [
      "Array without duplicates =  [1, 2, 3, 6]\n"
     ]
    }
   ],
   "source": [
    "\"\"\"main function\"\"\"\n",
    "input = [2,3,1,3,6,2,1,3]\n",
    "sorted_array = merge_sort(input)\n",
    "output = remove_duplicates(sorted_array)\n",
    "print(\"Array without duplicates = \",output)"
   ]
  }
 ],
 "metadata": {
  "kernelspec": {
   "display_name": "Python 3",
   "language": "python",
   "name": "python3"
  },
  "language_info": {
   "codemirror_mode": {
    "name": "ipython",
    "version": 3
   },
   "file_extension": ".py",
   "mimetype": "text/x-python",
   "name": "python",
   "nbconvert_exporter": "python",
   "pygments_lexer": "ipython3",
   "version": "3.7.6"
  }
 },
 "nbformat": 4,
 "nbformat_minor": 4
}
