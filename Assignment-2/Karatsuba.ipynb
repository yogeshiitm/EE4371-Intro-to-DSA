{
 "cells": [
  {
   "cell_type": "markdown",
   "metadata": {},
   "source": [
    "# ###Divide and conquer integer multiplication algorithm:#"
   ]
  },
  {
   "cell_type": "markdown",
   "metadata": {},
   "source": [
    "## 1. Karatsuba Implementation-1 (input format - int)"
   ]
  },
  {
   "cell_type": "code",
   "execution_count": 10,
   "metadata": {},
   "outputs": [],
   "source": [
    "# function that multiplies two numbers X and Y (input nos. in decimal or binary) \n",
    "# and returns the product in decimal format(for both input formats)\n",
    "\n",
    "from math import ceil\n",
    "\n",
    "def karatsuba(x, y, inputbase=10):\n",
    "    \"\"\"converting int to strings, for easy access to digits\"\"\"\n",
    "    sx = str(x)\n",
    "    sy = str(y)\n",
    "    n = max(len(sx), len(sy))\n",
    "    \n",
    "    \"\"\"base case of recursion\"\"\"\n",
    "    if len(sx) == 1 and len(sy) == 1:\n",
    "        return x*y\n",
    "    \n",
    "    \n",
    "    else:\n",
    "        \"\"\"split the digit sequences about the middle\"\"\"\n",
    "        m = ceil(n/2)\n",
    "        a = int(x // (10**m))\n",
    "        b = int(x % (10**m))\n",
    "        c = int(y // (10**m))\n",
    "        d = int(y % (10**m))\n",
    "        \n",
    "        \n",
    "        \"\"\"recursively calculate the 3 products\"\"\"\n",
    "        ac = karatsuba(int(a), int(c), inputbase)\n",
    "        bd = karatsuba(int(b), int(d), inputbase)\n",
    "        adbc = karatsuba(int(a)+int(b), int(c)+int(d), inputbase) - ac - bd\n",
    "        \n",
    "        \"\"\"this little trick, writing n as 2*ceil(n/2),\n",
    "        takes care of both even and odd n\"\"\"\n",
    "        \n",
    "        if(inputbase==10):\n",
    "            return (10**(2*ceil(n/2)))*ac + (10**ceil(n/2))*adbc + bd #----------> decimal input, decimal output\n",
    "        if(inputbase==2):\n",
    "            return (2**(2*ceil(n/2)))*ac + (2**ceil(n/2))*adbc + bd #------------> binary input, decimal output"
   ]
  },
  {
   "cell_type": "markdown",
   "metadata": {},
   "source": [
    "### 1. Multiply two binary integers 762055 and 2229849264. "
   ]
  },
  {
   "cell_type": "code",
   "execution_count": 14,
   "metadata": {},
   "outputs": [
    {
     "name": "stdout",
     "output_type": "stream",
     "text": [
      "Enter x in decimal: 762055\n",
      "Enter y in decimal: 2229849264\n",
      "x*y in decimal =  1699267780877520\n"
     ]
    }
   ],
   "source": [
    "x = int(input(\"Enter x in decimal: \"))\n",
    "y = int(input(\"Enter y in decimal: \"))\n",
    "\n",
    "product = karatsuba(x,y)\n",
    "print (\"x*y in decimal = \",product)"
   ]
  },
  {
   "cell_type": "markdown",
   "metadata": {},
   "source": [
    "### 2. Multiply two binary integers 10011011 and 10111010. "
   ]
  },
  {
   "cell_type": "code",
   "execution_count": 12,
   "metadata": {
    "scrolled": true
   },
   "outputs": [
    {
     "name": "stdout",
     "output_type": "stream",
     "text": [
      "Enter x in binary: 10011011\n",
      "Enter y in binary: 10111010\n",
      "x*y in decimal =  28830\n",
      "x*y in binary =  111000010011110\n"
     ]
    }
   ],
   "source": [
    "# Python program to convert decimal to binary \n",
    "def decimalToBinary(n):  \n",
    "    return bin(n).replace(\"0b\", \"\")\n",
    "\n",
    "x = int(input(\"Enter x in binary: \"))\n",
    "y = int(input(\"Enter y in binary: \"))\n",
    "\n",
    "product_in_decimal = karatsuba(x,y,2)\n",
    "product_in_binary = decimalToBinary(product_in_decimal)\n",
    "\n",
    "print (\"x*y in decimal = \",product_in_decimal)\n",
    "print (\"x*y in binary = \",product_in_binary)"
   ]
  },
  {
   "cell_type": "markdown",
   "metadata": {},
   "source": [
    "# 2. Karatsuba Implementation-2 (input format - string)"
   ]
  },
  {
   "cell_type": "code",
   "execution_count": 18,
   "metadata": {},
   "outputs": [],
   "source": [
    "# function that multiplies two strings X and Y (input nos. in decimal or binary) \n",
    "# and returns the product in decimal format(for both input formats)\n",
    "\n",
    "from math import ceil\n",
    "\n",
    "def karatsubaString(x, y, inputbase=10):\n",
    "    \"\"\"where x and y are strings(not int) of numbers\"\"\"\n",
    "    n1=len(x)\n",
    "    n2=len(y)\n",
    "    n = max(n1,n2)\n",
    "\n",
    "    \"\"\"making length of x and y equal\"\"\"\n",
    "    if(n1!=n2):\n",
    "        s=\"\";\n",
    "        for i in range(n-min(n1,n2)):\n",
    "            s += \"0\"\n",
    "        if(n1<n): x = s+x\n",
    "        if(n2<n): y = s+y\n",
    "\n",
    "    \"\"\"base case of recursion\"\"\"\n",
    "    if(len(x)==1 and len(y)==1):\n",
    "        return int(x)*int(y)\n",
    "    else:\n",
    "        \"\"\"split the digit sequences about the middle\"\"\"\n",
    "        m = n//2\n",
    "        a = x[:m]\n",
    "        b = x[m:]\n",
    "        c = y[:m]\n",
    "        d = y[m:]\n",
    "\n",
    "        \"\"\"recursively calculate the 3 products\"\"\"\n",
    "        ac = karatsubaString(a, c, inputbase)\n",
    "        bd = karatsubaString(b, d, inputbase)\n",
    "        adbc = karatsubaString(str(int(a)+int(b)), str(int(c)+int(d)), inputbase) - ac - bd\n",
    "\n",
    "        \"\"\"this little trick, writing n as 2*ceil(n/2) \n",
    "        takes care of both even and odd n\"\"\"\n",
    "        if(inputbase==10):\n",
    "            return (10**(2*ceil(n/2)))*ac + (10**ceil(n/2))*adbc + bd #----------> decimal input, decimal output\n",
    "        if(inputbase==2):\n",
    "            return (2**(2*ceil(n/2)))*ac + (2**ceil(n/2))*adbc + bd #------------> binary input, decimal output"
   ]
  },
  {
   "cell_type": "code",
   "execution_count": 19,
   "metadata": {},
   "outputs": [
    {
     "name": "stdout",
     "output_type": "stream",
     "text": [
      "Enter x in decimal: 762055\n",
      "Enter y in decimal: 2229849264\n",
      "x*y in decimal =  1699267780877520\n"
     ]
    }
   ],
   "source": [
    "x = input(\"Enter x in decimal: \") #string\n",
    "y = input(\"Enter y in decimal: \") #string\n",
    "product = karatsubaString(x,y)\n",
    "print (\"x*y in decimal = \",product)"
   ]
  }
 ],
 "metadata": {
  "kernelspec": {
   "display_name": "Python 3",
   "language": "python",
   "name": "python3"
  },
  "language_info": {
   "codemirror_mode": {
    "name": "ipython",
    "version": 3
   },
   "file_extension": ".py",
   "mimetype": "text/x-python",
   "name": "python",
   "nbconvert_exporter": "python",
   "pygments_lexer": "ipython3",
   "version": "3.7.6"
  }
 },
 "nbformat": 4,
 "nbformat_minor": 2
}
