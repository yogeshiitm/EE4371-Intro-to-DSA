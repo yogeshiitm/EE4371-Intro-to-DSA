{
 "cells": [
  {
   "cell_type": "markdown",
   "metadata": {},
   "source": [
    "### Use the divide and conquer integer multiplication algorithm to multiply the two binary integers 10011011 and 10111010."
   ]
  },
  {
   "cell_type": "code",
   "execution_count": 1,
   "metadata": {},
   "outputs": [],
   "source": [
    "# function that multiplies two bit strings X and Y and returns\n",
    "# the product in decimal format\n",
    "\n",
    "from math import floor, ceil\n",
    "\n",
    "def karatsuba(x, y):\n",
    "    \n",
    "    \"\"\"converting int to strings, for easy access to digits\"\"\"\n",
    "    sx = str(x)\n",
    "    sy = str(y)\n",
    "    n = max(len(sx), len(sy))\n",
    "    \n",
    "    \"\"\"base case of recursion\"\"\"\n",
    "    if len(sx) == 1 and len(sy) == 1:\n",
    "        return x*y\n",
    "    \n",
    "    \n",
    "    else:\n",
    "        \"\"\"split the digit sequences about the middle\"\"\"\n",
    "        m = ceil(n/2)\n",
    "        a = int(x // (10**m))\n",
    "        b = int(x % (10**m))\n",
    "        c = int(y // (10**m))\n",
    "        d = int(y % (10**m))\n",
    "        \n",
    "        \n",
    "        \"\"\"recursively calculate the 3 products\"\"\"\n",
    "        ac = karatsuba(int(a), int(c))\n",
    "        bd = karatsuba(int(b), int(d))\n",
    "        adbc = karatsuba(int(a)+int(b), int(c)+int(d)) - ac - bd\n",
    "        \n",
    "        \"\"\"this little trick, writing n as 2*m takes care of both\n",
    "        even and odd n\"\"\"\n",
    "        return (2**(2*m))*ac + (2**m)*adbc + bd"
   ]
  },
  {
   "cell_type": "code",
   "execution_count": 2,
   "metadata": {},
   "outputs": [],
   "source": [
    "# Python program to convert decimal to binary \n",
    "    \n",
    "def decimalToBinary(n):  \n",
    "    return bin(n).replace(\"0b\", \"\")"
   ]
  },
  {
   "cell_type": "code",
   "execution_count": 3,
   "metadata": {
    "scrolled": true
   },
   "outputs": [
    {
     "name": "stdout",
     "output_type": "stream",
     "text": [
      "Enter x: 10011011\n",
      "Enter y: 10111010\n",
      "x*y in binary =  111000010011110\n",
      "x*y in decimal =  28830\n"
     ]
    }
   ],
   "source": [
    "# program to take inputs from the user and then print the result\n",
    "\n",
    "x = int(input(\"Enter x: \"))\n",
    "y = int(input(\"Enter y: \"))\n",
    "\n",
    "product = karatsuba(x,y)\n",
    "product_in_binary = decimalToBinary(product)\n",
    "\n",
    "print (\"x*y in binary = \",product_in_binary)\n",
    "print (\"x*y in decimal = \",product)"
   ]
  }
 ],
 "metadata": {
  "kernelspec": {
   "display_name": "Python 3",
   "language": "python",
   "name": "python3"
  },
  "language_info": {
   "codemirror_mode": {
    "name": "ipython",
    "version": 3
   },
   "file_extension": ".py",
   "mimetype": "text/x-python",
   "name": "python",
   "nbconvert_exporter": "python",
   "pygments_lexer": "ipython3",
   "version": "3.7.6"
  }
 },
 "nbformat": 4,
 "nbformat_minor": 2
}
